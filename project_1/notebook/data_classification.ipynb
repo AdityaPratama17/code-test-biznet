{
 "cells": [
  {
   "cell_type": "code",
   "execution_count": 15,
   "id": "0881c7c8",
   "metadata": {},
   "outputs": [],
   "source": [
    "import pandas as pd\n",
    "from sentence_transformers import SentenceTransformer\n",
    "from sklearn.svm import LinearSVC\n",
    "from sklearn.ensemble import RandomForestClassifier\n",
    "from sklearn.linear_model import LogisticRegression\n",
    "from xgboost import XGBClassifier\n",
    "from sklearn.model_selection import train_test_split\n",
    "from sklearn.metrics import classification_report, accuracy_score\n",
    "import joblib\n",
    "import matplotlib.pyplot as plt"
   ]
  },
  {
   "cell_type": "markdown",
   "id": "6e751208",
   "metadata": {},
   "source": [
    "## 1. Load Labeled Data\n",
    "Load dataset yang telah memiliki label"
   ]
  },
  {
   "cell_type": "code",
   "execution_count": 3,
   "id": "9d026465",
   "metadata": {},
   "outputs": [],
   "source": [
    "df = pd.read_csv('../resources/data/labeled_question_list_all.csv')"
   ]
  },
  {
   "cell_type": "code",
   "execution_count": 4,
   "id": "c5c58791",
   "metadata": {},
   "outputs": [
    {
     "data": {
      "application/vnd.microsoft.datawrangler.viewer.v0+json": {
       "columns": [
        {
         "name": "index",
         "rawType": "int64",
         "type": "integer"
        },
        {
         "name": "question",
         "rawType": "object",
         "type": "string"
        },
        {
         "name": "label",
         "rawType": "object",
         "type": "string"
        },
        {
         "name": "label_int",
         "rawType": "float64",
         "type": "float"
        }
       ],
       "conversionMethod": "pd.DataFrame",
       "ref": "21adf475-612a-42e6-9164-4b42f81eaf44",
       "rows": [
        [
         "0",
         "Internet mati nih",
         "problem",
         "2.0"
        ],
        [
         "1",
         "Harga STB berapa ya?",
         "information",
         "0.0"
        ],
        [
         "2",
         "Internet saya putus sambung",
         "information",
         "0.0"
        ],
        [
         "3",
         "apakah untuk pergantian paket layanan bisa sekaligus bundling promo tahunan?",
         "information",
         "0.0"
        ],
        [
         "4",
         "apakah jika saat proses pergantian paket layanan melalui Apps MyBiznet  terdapat kendala salah order bisa dicancel?",
         "information",
         "0.0"
        ],
        [
         "5",
         "Internet mati",
         "problem",
         "2.0"
        ],
        [
         "6",
         "apakah order promo bisa diproses berkali-kali?",
         "information",
         "0.0"
        ],
        [
         "7",
         "Internet saya mati min dari semalam",
         "problem",
         "2.0"
        ],
        [
         "8",
         "apa saja syarat untuk pergantian nama akun biznet?",
         "information",
         "0.0"
        ],
        [
         "9",
         "berapa lama proses pergantian nama akun biznet?",
         "information",
         "0.0"
        ],
        [
         "10",
         "apakah bisa request pemisahan akun jika dalam satu akun terdaftar 2 billing pembayaran?",
         "information",
         "0.0"
        ],
        [
         "11",
         "saya mau pasang baru",
         "information",
         "0.0"
        ],
        [
         "12",
         "apakah untuk pergantian email dan nomor telepon terdaftar harus mengisi form pergantian data?",
         "information",
         "0.0"
        ],
        [
         "13",
         "syarat relokasi apa saja?",
         "information",
         "0.0"
        ],
        [
         "14",
         "cara mengecek cakupan area melalui apa ya?",
         "information",
         "0.0"
        ],
        [
         "15",
         "proses relokasi berapa lama?",
         "information",
         "0.0"
        ],
        [
         "16",
         "bilamana alamat baru belum tercakup layanan biznet apakah akun saya bisa dialihkan ke orang lain?",
         "information",
         "0.0"
        ],
        [
         "17",
         "bilamana alamat baru belum tercakup layanan biznet, syarat terminasi apa saja?",
         "information",
         "0.0"
        ],
        [
         "18",
         "setelah pengisian form terminasi saya harus menunggu berapa lama untuk akun diterimasi?",
         "information",
         "0.0"
        ],
        [
         "19",
         "jika saya terminasi sebelum masa kontak langganan berakhir dikarenakan alamat baru belum tercakup apakah  tidak dikenakan biaya pinati?",
         "information",
         "0.0"
        ],
        [
         "20",
         "bilamana kedepannnya saya ingin berlangganan kembali apakah bisa menggunakan akun yang sebelumnya?",
         "information",
         "0.0"
        ],
        [
         "21",
         "apakah bisa freeze akun?",
         "information",
         "0.0"
        ],
        [
         "22",
         "apakah bisa jika saya tidak bayar sebulan karena akan keluar kota?",
         "information",
         "0.0"
        ],
        [
         "23",
         "jika saya tidak melakukan pembayaran sebulan apakah dikenakan pinalti?",
         "information",
         "0.0"
        ],
        [
         "24",
         "bagaimana cara pendaftaran kartu kredit?",
         "information",
         "0.0"
        ],
        [
         "25",
         "apa saja paket yang tersedia di biznet?",
         "information",
         "0.0"
        ],
        [
         "26",
         "bagaimana cara beli modem?",
         "information",
         "0.0"
        ],
        [
         "27",
         "ini kenapa ya los merah menyala pada modem saya?",
         "information",
         "0.0"
        ],
        [
         "28",
         "pada modem saya lampu merah menyala sejak pagi, bisa dicek?",
         "information",
         "0.0"
        ],
        [
         "29",
         "apakah ada kompensasi jika koneksi internet biznet terputus berhari-hari?",
         "information",
         "0.0"
        ],
        [
         "30",
         "bagaimana jika saya salah melakukan pembayaran ke akun biznet orang lain, apakah uang saya bisa direfund?",
         "information",
         "0.0"
        ],
        [
         "31",
         "Kamu sebagai apa di biznet",
         "information",
         "0.0"
        ],
        [
         "32",
         "Apa kah kamu kenal dengan pak Adi",
         "information",
         "0.0"
        ],
        [
         "33",
         "Channel IPTV Biznet apa aja ya ?",
         "information",
         "0.0"
        ],
        [
         "34",
         "Mau refund dana Biznet",
         "request",
         "1.0"
        ],
        [
         "35",
         "Bagaimana cara cek IP Server game valorant ?",
         "information",
         "0.0"
        ],
        [
         "36",
         "Berapa jarak ideal dari DP terdekat ke rumah untuk pemasangan ?",
         "information",
         "0.0"
        ],
        [
         "37",
         "cara relokasi layanan",
         "information",
         "0.0"
        ],
        [
         "38",
         "Modem biznet wifi berapa ?",
         "information",
         "0.0"
        ],
        [
         "39",
         "Apakah modem Biznet sudah support wifi 6 ?",
         "information",
         "0.0"
        ],
        [
         "40",
         "Mau mengajukan sponsorship",
         "request",
         "1.0"
        ],
        [
         "41",
         "saya salah melakukan pembayaran ke akun orang lain",
         "information",
         "0.0"
        ],
        [
         "42",
         "Apa kelemahan koneksi dengan fiber ?",
         "information",
         "0.0"
        ],
        [
         "43",
         "Apa itu DDNS ?",
         "information",
         "0.0"
        ],
        [
         "44",
         "Bagaimana cara mengatur DDNS ?",
         "information",
         "0.0"
        ],
        [
         "45",
         "cara pembayaran Biznet Home.",
         "information",
         "0.0"
        ],
        [
         "46",
         "Rekomendasi router dari Biznet",
         "information",
         "0.0"
        ],
        [
         "47",
         "Rekomendasi router tambahan dari Biznet",
         "information",
         "0.0"
        ],
        [
         "48",
         "Internet saya down sudah 2 hari apa ada kompensasi ?",
         "information",
         "0.0"
        ],
        [
         "49",
         "Berapa perangkat untuk 0D ?",
         "information",
         "0.0"
        ]
       ],
       "shape": {
        "columns": 3,
        "rows": 1187
       }
      },
      "text/html": [
       "<div>\n",
       "<style scoped>\n",
       "    .dataframe tbody tr th:only-of-type {\n",
       "        vertical-align: middle;\n",
       "    }\n",
       "\n",
       "    .dataframe tbody tr th {\n",
       "        vertical-align: top;\n",
       "    }\n",
       "\n",
       "    .dataframe thead th {\n",
       "        text-align: right;\n",
       "    }\n",
       "</style>\n",
       "<table border=\"1\" class=\"dataframe\">\n",
       "  <thead>\n",
       "    <tr style=\"text-align: right;\">\n",
       "      <th></th>\n",
       "      <th>question</th>\n",
       "      <th>label</th>\n",
       "      <th>label_int</th>\n",
       "    </tr>\n",
       "  </thead>\n",
       "  <tbody>\n",
       "    <tr>\n",
       "      <th>0</th>\n",
       "      <td>Internet mati nih</td>\n",
       "      <td>problem</td>\n",
       "      <td>2.0</td>\n",
       "    </tr>\n",
       "    <tr>\n",
       "      <th>1</th>\n",
       "      <td>Harga STB berapa ya?</td>\n",
       "      <td>information</td>\n",
       "      <td>0.0</td>\n",
       "    </tr>\n",
       "    <tr>\n",
       "      <th>2</th>\n",
       "      <td>Internet saya putus sambung</td>\n",
       "      <td>information</td>\n",
       "      <td>0.0</td>\n",
       "    </tr>\n",
       "    <tr>\n",
       "      <th>3</th>\n",
       "      <td>apakah untuk pergantian paket layanan bisa sek...</td>\n",
       "      <td>information</td>\n",
       "      <td>0.0</td>\n",
       "    </tr>\n",
       "    <tr>\n",
       "      <th>4</th>\n",
       "      <td>apakah jika saat proses pergantian paket layan...</td>\n",
       "      <td>information</td>\n",
       "      <td>0.0</td>\n",
       "    </tr>\n",
       "    <tr>\n",
       "      <th>...</th>\n",
       "      <td>...</td>\n",
       "      <td>...</td>\n",
       "      <td>...</td>\n",
       "    </tr>\n",
       "    <tr>\n",
       "      <th>1182</th>\n",
       "      <td>harga modem berapa?</td>\n",
       "      <td>information</td>\n",
       "      <td>0.0</td>\n",
       "    </tr>\n",
       "    <tr>\n",
       "      <th>1183</th>\n",
       "      <td>kapan mybiznet ada di appstore?</td>\n",
       "      <td>information</td>\n",
       "      <td>0.0</td>\n",
       "    </tr>\n",
       "    <tr>\n",
       "      <th>1184</th>\n",
       "      <td>Saya tidak bisa melakukan pembayaran melalui B...</td>\n",
       "      <td>information</td>\n",
       "      <td>0.0</td>\n",
       "    </tr>\n",
       "    <tr>\n",
       "      <th>1185</th>\n",
       "      <td>untuk promo biznet home ada apa saja?</td>\n",
       "      <td>information</td>\n",
       "      <td>0.0</td>\n",
       "    </tr>\n",
       "    <tr>\n",
       "      <th>1186</th>\n",
       "      <td>Min internet saya putus sambung dari sore tadi...</td>\n",
       "      <td>information</td>\n",
       "      <td>0.0</td>\n",
       "    </tr>\n",
       "  </tbody>\n",
       "</table>\n",
       "<p>1187 rows × 3 columns</p>\n",
       "</div>"
      ],
      "text/plain": [
       "                                               question        label  \\\n",
       "0                                     Internet mati nih      problem   \n",
       "1                                  Harga STB berapa ya?  information   \n",
       "2                           Internet saya putus sambung  information   \n",
       "3     apakah untuk pergantian paket layanan bisa sek...  information   \n",
       "4     apakah jika saat proses pergantian paket layan...  information   \n",
       "...                                                 ...          ...   \n",
       "1182                                harga modem berapa?  information   \n",
       "1183                    kapan mybiznet ada di appstore?  information   \n",
       "1184  Saya tidak bisa melakukan pembayaran melalui B...  information   \n",
       "1185              untuk promo biznet home ada apa saja?  information   \n",
       "1186  Min internet saya putus sambung dari sore tadi...  information   \n",
       "\n",
       "      label_int  \n",
       "0           2.0  \n",
       "1           0.0  \n",
       "2           0.0  \n",
       "3           0.0  \n",
       "4           0.0  \n",
       "...         ...  \n",
       "1182        0.0  \n",
       "1183        0.0  \n",
       "1184        0.0  \n",
       "1185        0.0  \n",
       "1186        0.0  \n",
       "\n",
       "[1187 rows x 3 columns]"
      ]
     },
     "execution_count": 4,
     "metadata": {},
     "output_type": "execute_result"
    }
   ],
   "source": [
    "df"
   ]
  },
  {
   "cell_type": "markdown",
   "id": "56e68e95",
   "metadata": {},
   "source": [
    "## Train Data\n",
    "Proses training data untuk mendapatkan model klasifikasi.\n",
    "- Data training dan testing dibagi dalam perbandingan 80:20.\n",
    "- Proses training diujikan ke dalam beberapa algoritma klasifikasi."
   ]
  },
  {
   "cell_type": "code",
   "execution_count": 11,
   "id": "b9131222",
   "metadata": {},
   "outputs": [],
   "source": [
    "# set Feature and Target\n",
    "X_text = df['question'].tolist()\n",
    "y = df['label_int'].astype(int)\n",
    "\n",
    "# embedding\n",
    "model = SentenceTransformer('all-MiniLM-L6-v2')\n",
    "X_embed = model.encode(X_text)\n",
    "\n",
    "# split dataset\n",
    "X_train, X_test, y_train, y_test = train_test_split(\n",
    "    X_embed, y, test_size=0.2, random_state=42, stratify=y\n",
    ")\n",
    "\n",
    "# training logistic regression\n",
    "# clf = RandomForestClassifier(n_estimators=100, random_state=42)\n",
    "# clf = XGBClassifier(use_label_encoder=False, eval_metric='mlogloss')\n",
    "clf = LogisticRegression(max_iter=1000)\n",
    "clf.fit(X_train, y_train)\n",
    "\n",
    "# prediction \n",
    "y_pred = clf.predict(X_test)\n",
    "\n",
    "# evaluation\n",
    "report = classification_report(y_test, y_pred, target_names=['information', 'request', 'problem'])"
   ]
  },
  {
   "cell_type": "code",
   "execution_count": 12,
   "id": "96137edf",
   "metadata": {},
   "outputs": [
    {
     "name": "stdout",
     "output_type": "stream",
     "text": [
      "              precision    recall  f1-score   support\n",
      "\n",
      " information       0.97      0.99      0.98       204\n",
      "     request       1.00      0.88      0.93        16\n",
      "     problem       0.87      0.72      0.79        18\n",
      "\n",
      "    accuracy                           0.96       238\n",
      "   macro avg       0.94      0.86      0.90       238\n",
      "weighted avg       0.96      0.96      0.96       238\n",
      "\n"
     ]
    }
   ],
   "source": [
    "print(report)"
   ]
  },
  {
   "cell_type": "markdown",
   "id": "4b17e784",
   "metadata": {},
   "source": [
    "## Evaluation\n",
    "Dari hasil pengujian beberapa algoritma klasifikasi diatas dapat dilihat pada gambar dibawah. \n",
    "\n",
    "Bahwa algortima Logistic Regression memberikan performa terbaik berdasarkan nilai accuracy yang didapat."
   ]
  },
  {
   "cell_type": "code",
   "execution_count": null,
   "id": "8bae0ed6",
   "metadata": {},
   "outputs": [
    {
     "data": {
      "image/png": "[encoded data removed]",
      "text/plain": [
       "<Figure size 500x300 with 1 Axes>"
      ]
     },
     "metadata": {},
     "output_type": "display_data"
    }
   ],
   "source": [
    "# Data\n",
    "model_list = ['Random Forest', 'XGBoost', 'Logistic Regression']\n",
    "acc_list = [93, 95, 96]\n",
    "\n",
    "# Plotting\n",
    "plt.figure(figsize=(5, 3))\n",
    "bars = plt.bar(model_list, acc_list, color=['skyblue', 'orange', 'green'])\n",
    "plt.ylim(90, 100)\n",
    "plt.ylabel('Akurasi (%)')\n",
    "plt.title('Perbandingan Akurasi Model Klasifikasi')\n",
    "\n",
    "# Tambahkan nilai akurasi di atas bar\n",
    "for bar, acc in zip(bars, acc_list):\n",
    "    plt.text(bar.get_x() + bar.get_width() / 2, bar.get_height() + 1, f'{acc}%', ha='center', va='bottom', fontsize=10)\n",
    "\n",
    "plt.tight_layout()\n",
    "plt.show()"
   ]
  },
  {
   "cell_type": "markdown",
   "id": "5a1e61f5",
   "metadata": {},
   "source": [
    "Dalam pengujian over/under fitting, algoritma Logistic Regression memberikan hasil Best Fit dengan nilai accuracy pada data training 95% dan data testing 96%."
   ]
  },
  {
   "cell_type": "code",
   "execution_count": 67,
   "id": "0e446516",
   "metadata": {},
   "outputs": [
    {
     "name": "stdout",
     "output_type": "stream",
     "text": [
      "Training Accuracy: 0.9505\n",
      "Testing Accuracy: 0.9622\n"
     ]
    }
   ],
   "source": [
    "# Setelah training\n",
    "y_train_pred = clf.predict(X_train)\n",
    "y_test_pred = clf.predict(X_test)\n",
    "\n",
    "# Akurasi training dan testing\n",
    "train_acc = accuracy_score(y_train, y_train_pred)\n",
    "test_acc = accuracy_score(y_test, y_test_pred)\n",
    "\n",
    "print(f\"Training Accuracy: {train_acc:.4f}\")\n",
    "print(f\"Testing Accuracy: {test_acc:.4f}\")"
   ]
  },
  {
   "cell_type": "markdown",
   "id": "a3d3df5e",
   "metadata": {},
   "source": [
    "## Export Model"
   ]
  },
  {
   "cell_type": "code",
   "execution_count": 68,
   "id": "68cb57b4",
   "metadata": {},
   "outputs": [
    {
     "data": {
      "text/plain": [
       "['../resources/model/trained_model.pkl']"
      ]
     },
     "execution_count": 68,
     "metadata": {},
     "output_type": "execute_result"
    }
   ],
   "source": [
    "joblib.dump(clf, '../resources/model/trained_model.pkl')"
   ]
  },
  {
   "cell_type": "markdown",
   "id": "ee9a568a",
   "metadata": {},
   "source": [
    "## Inference"
   ]
  },
  {
   "cell_type": "code",
   "execution_count": 18,
   "id": "d714acd0",
   "metadata": {},
   "outputs": [],
   "source": [
    "# Load model klasifikasi\n",
    "clf = joblib.load('../resources/model/trained_model.pkl')\n",
    "\n",
    "# Load model BERT\n",
    "bert_model = SentenceTransformer('all-MiniLM-L6-v2')"
   ]
  },
  {
   "cell_type": "code",
   "execution_count": 19,
   "id": "8083fe4d",
   "metadata": {},
   "outputs": [],
   "source": [
    "def predict_label(question_text):\n",
    "    # Lakukan embedding pertanyaan\n",
    "    embedding = bert_model.encode([question_text])  # hasil shape (1, 384)\n",
    "\n",
    "    # Prediksi label\n",
    "    label_int = clf.predict(embedding)[0]\n",
    "    label_prob = clf.predict_proba(embedding)[0]\n",
    "    print('prob:', label_prob)\n",
    "\n",
    "    # Mapping angka ke label string\n",
    "    label_map = {\n",
    "        0: 'information',\n",
    "        1: 'request',\n",
    "        2: 'problem'\n",
    "    }\n",
    "\n",
    "    return label_map.get(label_int, 'unknown')\n"
   ]
  },
  {
   "cell_type": "code",
   "execution_count": 20,
   "id": "910ffe39",
   "metadata": {},
   "outputs": [
    {
     "name": "stdout",
     "output_type": "stream",
     "text": [
      "prob: [0.09723316 0.86369774 0.0390691 ]\n",
      "Prediksi label: request\n"
     ]
    }
   ],
   "source": [
    "text = \"mau relokasi\"\n",
    "predicted_label = predict_label(text)\n",
    "\n",
    "print(f\"Prediksi label: {predicted_label}\")"
   ]
  },
  {
   "cell_type": "code",
   "execution_count": null,
   "id": "6e85e0ea",
   "metadata": {},
   "outputs": [],
   "source": []
  }
 ],
 "metadata": {
  "kernelspec": {
   "display_name": "biznet_test_project_1",
   "language": "python",
   "name": "biznet_test_project_1"
  },
  "language_info": {
   "codemirror_mode": {
    "name": "ipython",
    "version": 3
   },
   "file_extension": ".py",
   "mimetype": "text/x-python",
   "name": "python",
   "nbconvert_exporter": "python",
   "pygments_lexer": "ipython3",
   "version": "3.11.9"
  }
 },
 "nbformat": 4,
 "nbformat_minor": 5
}
