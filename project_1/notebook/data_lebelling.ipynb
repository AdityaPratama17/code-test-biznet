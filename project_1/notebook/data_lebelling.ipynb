{
 "cells": [
  {
   "cell_type": "code",
   "execution_count": 1,
   "id": "51b9161a",
   "metadata": {},
   "outputs": [],
   "source": [
    "import pandas as pd\n",
    "import pandas as pd\n",
    "from sentence_transformers import SentenceTransformer\n",
    "from sklearn.cluster import DBSCAN\n",
    "import re"
   ]
  },
  {
   "cell_type": "markdown",
   "id": "eb51f4d1",
   "metadata": {},
   "source": [
    "## 1. Preprocessing Data\n",
    "Tahapan ini digunakan untuk melakukan preprocessing data, yang terdiri dari:\n",
    "- load data dari file csv\n",
    "- menghapus data-data yang duplikat"
   ]
  },
  {
   "cell_type": "code",
   "execution_count": 3,
   "id": "8e8e2058",
   "metadata": {},
   "outputs": [
    {
     "data": {
      "application/vnd.microsoft.datawrangler.viewer.v0+json": {
       "columns": [
        {
         "name": "index",
         "rawType": "int64",
         "type": "integer"
        },
        {
         "name": "question",
         "rawType": "object",
         "type": "string"
        }
       ],
       "conversionMethod": "pd.DataFrame",
       "ref": "b8baf067-7edd-47b9-8da9-7d54593e8fa4",
       "rows": [
        [
         "0",
         "Internet mati nih"
        ],
        [
         "1",
         "Harga STB berapa ya?"
        ],
        [
         "2",
         "Internet saya putus sambung"
        ],
        [
         "3",
         "Mengapa saya tidak dapat mengisi formulir relokasi? setelah disubmit hanya blank"
        ],
        [
         "4",
         "mengapa ketika ingin melakukan pembayaran tidak dapat diproses?"
        ]
       ],
       "shape": {
        "columns": 1,
        "rows": 5
       }
      },
      "text/html": [
       "<div>\n",
       "<style scoped>\n",
       "    .dataframe tbody tr th:only-of-type {\n",
       "        vertical-align: middle;\n",
       "    }\n",
       "\n",
       "    .dataframe tbody tr th {\n",
       "        vertical-align: top;\n",
       "    }\n",
       "\n",
       "    .dataframe thead th {\n",
       "        text-align: right;\n",
       "    }\n",
       "</style>\n",
       "<table border=\"1\" class=\"dataframe\">\n",
       "  <thead>\n",
       "    <tr style=\"text-align: right;\">\n",
       "      <th></th>\n",
       "      <th>question</th>\n",
       "    </tr>\n",
       "  </thead>\n",
       "  <tbody>\n",
       "    <tr>\n",
       "      <th>0</th>\n",
       "      <td>Internet mati nih</td>\n",
       "    </tr>\n",
       "    <tr>\n",
       "      <th>1</th>\n",
       "      <td>Harga STB berapa ya?</td>\n",
       "    </tr>\n",
       "    <tr>\n",
       "      <th>2</th>\n",
       "      <td>Internet saya putus sambung</td>\n",
       "    </tr>\n",
       "    <tr>\n",
       "      <th>3</th>\n",
       "      <td>Mengapa saya tidak dapat mengisi formulir relo...</td>\n",
       "    </tr>\n",
       "    <tr>\n",
       "      <th>4</th>\n",
       "      <td>mengapa ketika ingin melakukan pembayaran tida...</td>\n",
       "    </tr>\n",
       "  </tbody>\n",
       "</table>\n",
       "</div>"
      ],
      "text/plain": [
       "                                            question\n",
       "0                                  Internet mati nih\n",
       "1                               Harga STB berapa ya?\n",
       "2                        Internet saya putus sambung\n",
       "3  Mengapa saya tidak dapat mengisi formulir relo...\n",
       "4  mengapa ketika ingin melakukan pembayaran tida..."
      ]
     },
     "execution_count": 3,
     "metadata": {},
     "output_type": "execute_result"
    }
   ],
   "source": [
    "df = pd.read_csv('../resources/data/question_list.csv')\n",
    "\n",
    "# Hapus baris kedua (index ke-1)\n",
    "df = df.drop(index=0).reset_index(drop=True)\n",
    "\n",
    "# Ubah nama kolom menjadi 'question'\n",
    "df.columns = ['question']\n",
    "\n",
    "# Hilangkan tanda kutip dari setiap string\n",
    "df['question'] = df['question'].str.replace('\"', '').str.strip()\n",
    "\n",
    "# Hapus duplikat berdasarkan versi lowercase dari 'question'\n",
    "df = df[~df['question'].str.lower().duplicated()].reset_index(drop=True)\n",
    "\n",
    "df.head()"
   ]
  },
  {
   "cell_type": "markdown",
   "id": "98499a87",
   "metadata": {},
   "source": [
    "## 2. Labeling Data\n",
    "karena dataset yang diload diatas belum memiliki labal, sehingga pada tahap ini akan melakukan proses labeling sebelum masuk ke tahap training data."
   ]
  },
  {
   "cell_type": "markdown",
   "id": "570f8d97",
   "metadata": {},
   "source": [
    "### a. Labeling with Clustering Data\n",
    "Labeling pertama dilakukan dengan pendekatan clustering.\n",
    "\n",
    "proses:\n",
    "- semua data akan di-embedding untuk merubah data ke dalam bentuk vector\n",
    "- data akan dicluster dengan menggunakan algoritma DBSCAN\n",
    "- seteleh data tercluster atau tersegmentasi, selanjutnya dilakukan proses pelabelan secara manual berdasarkan data-data yang ada di setiap cluster. "
   ]
  },
  {
   "cell_type": "code",
   "execution_count": 4,
   "id": "28e67600",
   "metadata": {},
   "outputs": [],
   "source": [
    "def clustering(df, eps, min_samples):\n",
    "    \"\"\"\n",
    "    Melakukan proses clustering data\n",
    "    \"\"\"\n",
    "    df = df.copy()\n",
    "    \n",
    "    # embedding data\n",
    "    model = SentenceTransformer('all-MiniLM-L6-v2')\n",
    "    embeddings = model.encode(df['question'].tolist())\n",
    "\n",
    "    # DBSCAN clustering\n",
    "    dbscan = DBSCAN(eps=eps, min_samples=min_samples, metric='euclidean')\n",
    "    cluster = dbscan.fit_predict(embeddings)\n",
    "    df['cluster'] = cluster\n",
    "\n",
    "    return df"
   ]
  },
  {
   "cell_type": "code",
   "execution_count": 5,
   "id": "faa029a0",
   "metadata": {},
   "outputs": [],
   "source": [
    "def set_label_by_cluster(df:pd.DataFrame, cluster_value:list, label_name:str):\n",
    "    \"\"\"\n",
    "    Mengatur label string dan integer berdasarkan nilai cluster.\n",
    "    \"\"\"\n",
    "\n",
    "    label_map = {\n",
    "        'information': 0,\n",
    "        'request': 1,\n",
    "        'problem': 2\n",
    "    }\n",
    "    if label_name not in label_map:\n",
    "        raise ValueError(\"Label harus salah satu dari: 'information', 'request', 'problem'\")\n",
    "\n",
    "    # Set nilai label dan label_int berdasarkan cluster\n",
    "    df.loc[df['cluster'].isin(cluster_value), 'label'] = label_name\n",
    "    df.loc[df['cluster'].isin(cluster_value), 'label_int'] = label_map[label_name]\n",
    "\n",
    "    return df"
   ]
  },
  {
   "cell_type": "code",
   "execution_count": 6,
   "id": "02c13898",
   "metadata": {},
   "outputs": [
    {
     "data": {
      "application/vnd.microsoft.datawrangler.viewer.v0+json": {
       "columns": [
        {
         "name": "index",
         "rawType": "int64",
         "type": "integer"
        },
        {
         "name": "question",
         "rawType": "object",
         "type": "string"
        },
        {
         "name": "cluster",
         "rawType": "int64",
         "type": "integer"
        }
       ],
       "conversionMethod": "pd.DataFrame",
       "ref": "c2a0c385-75a8-4a57-b3a2-9c9fc7e3efd1",
       "rows": [
        [
         "0",
         "Internet mati nih",
         "-1"
        ],
        [
         "1",
         "Harga STB berapa ya?",
         "-1"
        ],
        [
         "2",
         "Internet saya putus sambung",
         "0"
        ],
        [
         "3",
         "Mengapa saya tidak dapat mengisi formulir relokasi? setelah disubmit hanya blank",
         "-1"
        ],
        [
         "4",
         "mengapa ketika ingin melakukan pembayaran tidak dapat diproses?",
         "-1"
        ]
       ],
       "shape": {
        "columns": 2,
        "rows": 5
       }
      },
      "text/html": [
       "<div>\n",
       "<style scoped>\n",
       "    .dataframe tbody tr th:only-of-type {\n",
       "        vertical-align: middle;\n",
       "    }\n",
       "\n",
       "    .dataframe tbody tr th {\n",
       "        vertical-align: top;\n",
       "    }\n",
       "\n",
       "    .dataframe thead th {\n",
       "        text-align: right;\n",
       "    }\n",
       "</style>\n",
       "<table border=\"1\" class=\"dataframe\">\n",
       "  <thead>\n",
       "    <tr style=\"text-align: right;\">\n",
       "      <th></th>\n",
       "      <th>question</th>\n",
       "      <th>cluster</th>\n",
       "    </tr>\n",
       "  </thead>\n",
       "  <tbody>\n",
       "    <tr>\n",
       "      <th>0</th>\n",
       "      <td>Internet mati nih</td>\n",
       "      <td>-1</td>\n",
       "    </tr>\n",
       "    <tr>\n",
       "      <th>1</th>\n",
       "      <td>Harga STB berapa ya?</td>\n",
       "      <td>-1</td>\n",
       "    </tr>\n",
       "    <tr>\n",
       "      <th>2</th>\n",
       "      <td>Internet saya putus sambung</td>\n",
       "      <td>0</td>\n",
       "    </tr>\n",
       "    <tr>\n",
       "      <th>3</th>\n",
       "      <td>Mengapa saya tidak dapat mengisi formulir relo...</td>\n",
       "      <td>-1</td>\n",
       "    </tr>\n",
       "    <tr>\n",
       "      <th>4</th>\n",
       "      <td>mengapa ketika ingin melakukan pembayaran tida...</td>\n",
       "      <td>-1</td>\n",
       "    </tr>\n",
       "  </tbody>\n",
       "</table>\n",
       "</div>"
      ],
      "text/plain": [
       "                                            question  cluster\n",
       "0                                  Internet mati nih       -1\n",
       "1                               Harga STB berapa ya?       -1\n",
       "2                        Internet saya putus sambung        0\n",
       "3  Mengapa saya tidak dapat mengisi formulir relo...       -1\n",
       "4  mengapa ketika ingin melakukan pembayaran tida...       -1"
      ]
     },
     "execution_count": 6,
     "metadata": {},
     "output_type": "execute_result"
    }
   ],
   "source": [
    "# data clustering\n",
    "df_clustered = clustering(df, 0.7, 10)\n",
    "df_clustered.head()"
   ]
  },
  {
   "cell_type": "code",
   "execution_count": 7,
   "id": "42f35c35",
   "metadata": {},
   "outputs": [
    {
     "data": {
      "application/vnd.microsoft.datawrangler.viewer.v0+json": {
       "columns": [
        {
         "name": "index",
         "rawType": "int64",
         "type": "integer"
        },
        {
         "name": "question",
         "rawType": "object",
         "type": "string"
        },
        {
         "name": "cluster",
         "rawType": "int64",
         "type": "integer"
        },
        {
         "name": "label",
         "rawType": "object",
         "type": "unknown"
        },
        {
         "name": "label_int",
         "rawType": "float64",
         "type": "float"
        }
       ],
       "conversionMethod": "pd.DataFrame",
       "ref": "365e9b21-f6a5-41eb-86f5-5551f675a402",
       "rows": [
        [
         "0",
         "Internet mati nih",
         "-1",
         null,
         null
        ],
        [
         "1",
         "Harga STB berapa ya?",
         "-1",
         null,
         null
        ],
        [
         "2",
         "Internet saya putus sambung",
         "0",
         "information",
         "0.0"
        ],
        [
         "3",
         "Mengapa saya tidak dapat mengisi formulir relokasi? setelah disubmit hanya blank",
         "-1",
         null,
         null
        ],
        [
         "4",
         "mengapa ketika ingin melakukan pembayaran tidak dapat diproses?",
         "-1",
         null,
         null
        ],
        [
         "5",
         "bisa dibantu informasikan prosedur pergantian paket layanan?",
         "-1",
         null,
         null
        ],
        [
         "6",
         "apakah untuk pergantian paket layanan bisa sekaligus bundling promo tahunan?",
         "-1",
         null,
         null
        ],
        [
         "7",
         "apakah jika saat proses pergantian paket layanan melalui Apps MyBiznet  terdapat kendala salah order bisa dicancel?",
         "-1",
         null,
         null
        ],
        [
         "8",
         "Internet mati",
         "-1",
         null,
         null
        ],
        [
         "9",
         "apakah order promo bisa diproses berkali-kali?",
         "-1",
         null,
         null
        ],
        [
         "10",
         "Internet saya mati min dari semalam",
         "-1",
         null,
         null
        ],
        [
         "11",
         "sudah dicoba restart tapi masih sama",
         "-1",
         null,
         null
        ],
        [
         "12",
         "apa saja syarat untuk pergantian nama akun biznet?",
         "0",
         "information",
         "0.0"
        ],
        [
         "13",
         "berapa lama proses pergantian nama akun biznet?",
         "0",
         "information",
         "0.0"
        ],
        [
         "14",
         "apakah bisa request pemisahan akun jika dalam satu akun terdaftar 2 billing pembayaran?",
         "-1",
         null,
         null
        ],
        [
         "15",
         "saya mau pasang baru",
         "0",
         "information",
         "0.0"
        ],
        [
         "16",
         "Ingin pasang baru",
         "-1",
         null,
         null
        ],
        [
         "17",
         "apakah untuk pergantian email dan nomor telepon terdaftar harus mengisi form pergantian data?",
         "-1",
         null,
         null
        ],
        [
         "18",
         "Ingin pasang baru di jonggol paket 0d",
         "-1",
         null,
         null
        ],
        [
         "19",
         "bogor gunung putri",
         "-1",
         null,
         null
        ],
        [
         "20",
         "boleh bantu ke cs ya",
         "-1",
         null,
         null
        ],
        [
         "21",
         "Perum BDB 2 blok AS 12A rt 06 rw 13",
         "-1",
         null,
         null
        ],
        [
         "22",
         "syarat relokasi apa saja?",
         "0",
         "information",
         "0.0"
        ],
        [
         "23",
         "cara mengecek cakupan area melalui apa ya?",
         "-1",
         null,
         null
        ],
        [
         "24",
         "proses relokasi berapa lama?",
         "-1",
         null,
         null
        ],
        [
         "25",
         "bilamana alamat baru belum tercakup layanan biznet apakah akun saya bisa dialihkan ke orang lain?",
         "0",
         "information",
         "0.0"
        ],
        [
         "26",
         "bilamana alamat baru belum tercakup layanan biznet, syarat terminasi apa saja?",
         "0",
         "information",
         "0.0"
        ],
        [
         "27",
         "setelah pengisian form terminasi saya harus menunggu berapa lama untuk akun diterimasi?",
         "-1",
         null,
         null
        ],
        [
         "28",
         "jika saya terminasi sebelum masa kontak langganan berakhir dikarenakan alamat baru belum tercakup apakah  tidak dikenakan biaya pinati?",
         "-1",
         null,
         null
        ],
        [
         "29",
         "bilamana kedepannnya saya ingin berlangganan kembali apakah bisa menggunakan akun yang sebelumnya?",
         "-1",
         null,
         null
        ],
        [
         "30",
         "apakah bisa freeze akun?",
         "-1",
         null,
         null
        ],
        [
         "31",
         "apakah bisa jika saya tidak bayar sebulan karena akan keluar kota?",
         "-1",
         null,
         null
        ],
        [
         "32",
         "jika saya tidak melakukan pembayaran sebulan apakah dikenakan pinalti?",
         "0",
         "information",
         "0.0"
        ],
        [
         "33",
         "bagaimana cara pendaftaran kartu kredit?",
         "0",
         "information",
         "0.0"
        ],
        [
         "34",
         "apa saja paket yang tersedia di biznet?",
         "0",
         "information",
         "0.0"
        ],
        [
         "35",
         "bagaimana cara beli modem?",
         "0",
         "information",
         "0.0"
        ],
        [
         "36",
         "ini kenapa ya los merah menyala pada modem saya?",
         "0",
         "information",
         "0.0"
        ],
        [
         "37",
         "bisa dicek ID pelanggan 1000308564 los meah menyala sejak pagi?",
         "-1",
         null,
         null
        ],
        [
         "38",
         "los merah menyala sejak pagi",
         "-1",
         null,
         null
        ],
        [
         "39",
         "pada modem saya lampu merah menyala sejak pagi, bisa dicek?",
         "0",
         "information",
         "0.0"
        ],
        [
         "40",
         "apakah ada kompensasi jika koneksi internet biznet terputus berhari-hari?",
         "0",
         "information",
         "0.0"
        ],
        [
         "41",
         "bagaimana jika saya salah melakukan pembayaran ke akun biznet orang lain, apakah uang saya bisa direfund?",
         "0",
         "information",
         "0.0"
        ],
        [
         "42",
         "Kamu sebagai apa di biznet",
         "0",
         "information",
         "0.0"
        ],
        [
         "43",
         "Apa kah kamu kenal dengan pak Adi",
         "-1",
         null,
         null
        ],
        [
         "44",
         "Siapa owner biznet",
         "-1",
         null,
         null
        ],
        [
         "45",
         "Itu kamu tau pak Adi owner biznet tadi ditanya gak tau",
         "-1",
         null,
         null
        ],
        [
         "46",
         "Saya minta no WhatsApp nya dong",
         "-1",
         null,
         null
        ],
        [
         "47",
         "Estimasi kunjungan teknisi biznet",
         "-1",
         null,
         null
        ],
        [
         "48",
         "Channel IPTV Biznet apa aja ya ?",
         "0",
         "information",
         "0.0"
        ],
        [
         "49",
         "Mau refund dana Biznet",
         "-1",
         null,
         null
        ]
       ],
       "shape": {
        "columns": 4,
        "rows": 1729
       }
      },
      "text/html": [
       "<div>\n",
       "<style scoped>\n",
       "    .dataframe tbody tr th:only-of-type {\n",
       "        vertical-align: middle;\n",
       "    }\n",
       "\n",
       "    .dataframe tbody tr th {\n",
       "        vertical-align: top;\n",
       "    }\n",
       "\n",
       "    .dataframe thead th {\n",
       "        text-align: right;\n",
       "    }\n",
       "</style>\n",
       "<table border=\"1\" class=\"dataframe\">\n",
       "  <thead>\n",
       "    <tr style=\"text-align: right;\">\n",
       "      <th></th>\n",
       "      <th>question</th>\n",
       "      <th>cluster</th>\n",
       "      <th>label</th>\n",
       "      <th>label_int</th>\n",
       "    </tr>\n",
       "  </thead>\n",
       "  <tbody>\n",
       "    <tr>\n",
       "      <th>0</th>\n",
       "      <td>Internet mati nih</td>\n",
       "      <td>-1</td>\n",
       "      <td>NaN</td>\n",
       "      <td>NaN</td>\n",
       "    </tr>\n",
       "    <tr>\n",
       "      <th>1</th>\n",
       "      <td>Harga STB berapa ya?</td>\n",
       "      <td>-1</td>\n",
       "      <td>NaN</td>\n",
       "      <td>NaN</td>\n",
       "    </tr>\n",
       "    <tr>\n",
       "      <th>2</th>\n",
       "      <td>Internet saya putus sambung</td>\n",
       "      <td>0</td>\n",
       "      <td>information</td>\n",
       "      <td>0.0</td>\n",
       "    </tr>\n",
       "    <tr>\n",
       "      <th>3</th>\n",
       "      <td>Mengapa saya tidak dapat mengisi formulir relo...</td>\n",
       "      <td>-1</td>\n",
       "      <td>NaN</td>\n",
       "      <td>NaN</td>\n",
       "    </tr>\n",
       "    <tr>\n",
       "      <th>4</th>\n",
       "      <td>mengapa ketika ingin melakukan pembayaran tida...</td>\n",
       "      <td>-1</td>\n",
       "      <td>NaN</td>\n",
       "      <td>NaN</td>\n",
       "    </tr>\n",
       "    <tr>\n",
       "      <th>...</th>\n",
       "      <td>...</td>\n",
       "      <td>...</td>\n",
       "      <td>...</td>\n",
       "      <td>...</td>\n",
       "    </tr>\n",
       "    <tr>\n",
       "      <th>1724</th>\n",
       "      <td>harga modem berapa?</td>\n",
       "      <td>0</td>\n",
       "      <td>information</td>\n",
       "      <td>0.0</td>\n",
       "    </tr>\n",
       "    <tr>\n",
       "      <th>1725</th>\n",
       "      <td>kapan mybiznet ada di appstore?</td>\n",
       "      <td>-1</td>\n",
       "      <td>NaN</td>\n",
       "      <td>NaN</td>\n",
       "    </tr>\n",
       "    <tr>\n",
       "      <th>1726</th>\n",
       "      <td>Saya tidak bisa melakukan pembayaran melalui B...</td>\n",
       "      <td>3</td>\n",
       "      <td>information</td>\n",
       "      <td>0.0</td>\n",
       "    </tr>\n",
       "    <tr>\n",
       "      <th>1727</th>\n",
       "      <td>untuk promo biznet home ada apa saja?</td>\n",
       "      <td>0</td>\n",
       "      <td>information</td>\n",
       "      <td>0.0</td>\n",
       "    </tr>\n",
       "    <tr>\n",
       "      <th>1728</th>\n",
       "      <td>Min internet saya putus sambung dari sore tadi...</td>\n",
       "      <td>0</td>\n",
       "      <td>information</td>\n",
       "      <td>0.0</td>\n",
       "    </tr>\n",
       "  </tbody>\n",
       "</table>\n",
       "<p>1729 rows × 4 columns</p>\n",
       "</div>"
      ],
      "text/plain": [
       "                                               question  cluster        label  \\\n",
       "0                                     Internet mati nih       -1          NaN   \n",
       "1                                  Harga STB berapa ya?       -1          NaN   \n",
       "2                           Internet saya putus sambung        0  information   \n",
       "3     Mengapa saya tidak dapat mengisi formulir relo...       -1          NaN   \n",
       "4     mengapa ketika ingin melakukan pembayaran tida...       -1          NaN   \n",
       "...                                                 ...      ...          ...   \n",
       "1724                                harga modem berapa?        0  information   \n",
       "1725                    kapan mybiznet ada di appstore?       -1          NaN   \n",
       "1726  Saya tidak bisa melakukan pembayaran melalui B...        3  information   \n",
       "1727              untuk promo biznet home ada apa saja?        0  information   \n",
       "1728  Min internet saya putus sambung dari sore tadi...        0  information   \n",
       "\n",
       "      label_int  \n",
       "0           NaN  \n",
       "1           NaN  \n",
       "2           0.0  \n",
       "3           NaN  \n",
       "4           NaN  \n",
       "...         ...  \n",
       "1724        0.0  \n",
       "1725        NaN  \n",
       "1726        0.0  \n",
       "1727        0.0  \n",
       "1728        0.0  \n",
       "\n",
       "[1729 rows x 4 columns]"
      ]
     },
     "execution_count": 7,
     "metadata": {},
     "output_type": "execute_result"
    }
   ],
   "source": [
    "# set label by cluster\n",
    "df_clustered = set_label_by_cluster(df_clustered, [0,1,2,3,4], 'information')\n",
    "df_clustered"
   ]
  },
  {
   "cell_type": "code",
   "execution_count": 8,
   "id": "09c559a1",
   "metadata": {},
   "outputs": [],
   "source": [
    "df_clustered.to_csv('../resources/data/labeled_question_list_1.csv', index=False)"
   ]
  },
  {
   "cell_type": "markdown",
   "id": "dd7f98c3",
   "metadata": {},
   "source": [
    "### b. Labeling with regex\n",
    "Selanjutnya melakukan labeling manual menggunakan kata kunci dari setiap label dengan menggunakan regex.\n",
    "\n",
    "Sehingga data-data yang mengandung kata kunci tertentu akan dilabelkan ke label terkait."
   ]
  },
  {
   "cell_type": "code",
   "execution_count": 10,
   "id": "e6467892",
   "metadata": {},
   "outputs": [],
   "source": [
    "df = pd.read_csv('../resources/data/labeled_question_list_1.csv')"
   ]
  },
  {
   "cell_type": "markdown",
   "id": "4684bc8d",
   "metadata": {},
   "source": [
    "##### regex untuk \"Information\" label\n",
    "pada label \"Information\" digunakan kata kunci: bagaimana, apa, cara, apakah, berapa, kapan"
   ]
  },
  {
   "cell_type": "code",
   "execution_count": 11,
   "id": "040e7a00",
   "metadata": {},
   "outputs": [
    {
     "name": "stderr",
     "output_type": "stream",
     "text": [
      "C:\\Users\\adity\\AppData\\Local\\Temp\\ipykernel_4476\\1377876900.py:4: UserWarning: This pattern is interpreted as a regular expression, and has match groups. To actually get the groups, use str.extract.\n",
      "  mask = df['label'].isna() & df['question'].str.contains(keywords, flags=re.IGNORECASE, regex=True)\n"
     ]
    }
   ],
   "source": [
    "keywords = r'\\b(bagaimana|apa|cara|apakah|berapa|kapan)\\b'\n",
    "    \n",
    "# Filter: hanya baris tanpa label dan mengandung kata kunci\n",
    "mask = df['label'].isna() & df['question'].str.contains(keywords, flags=re.IGNORECASE, regex=True)\n",
    "\n",
    "# Tetapkan label\n",
    "df.loc[mask, 'label'] = 'information'\n",
    "df.loc[mask, 'label_int'] = 0"
   ]
  },
  {
   "cell_type": "code",
   "execution_count": 13,
   "id": "ccb5b460",
   "metadata": {},
   "outputs": [
    {
     "data": {
      "application/vnd.microsoft.datawrangler.viewer.v0+json": {
       "columns": [
        {
         "name": "index",
         "rawType": "int64",
         "type": "integer"
        },
        {
         "name": "question",
         "rawType": "object",
         "type": "string"
        },
        {
         "name": "cluster",
         "rawType": "int64",
         "type": "integer"
        },
        {
         "name": "label",
         "rawType": "object",
         "type": "unknown"
        },
        {
         "name": "label_int",
         "rawType": "float64",
         "type": "float"
        }
       ],
       "conversionMethod": "pd.DataFrame",
       "ref": "3f932646-a645-411c-bb67-01ce8bb5a653",
       "rows": [
        [
         "0",
         "Internet mati nih",
         "-1",
         null,
         null
        ],
        [
         "1",
         "Harga STB berapa ya?",
         "-1",
         "information",
         "0.0"
        ],
        [
         "2",
         "Internet saya putus sambung",
         "0",
         "information",
         "0.0"
        ],
        [
         "3",
         "Mengapa saya tidak dapat mengisi formulir relokasi? setelah disubmit hanya blank",
         "-1",
         null,
         null
        ],
        [
         "4",
         "mengapa ketika ingin melakukan pembayaran tidak dapat diproses?",
         "-1",
         null,
         null
        ],
        [
         "5",
         "bisa dibantu informasikan prosedur pergantian paket layanan?",
         "-1",
         null,
         null
        ],
        [
         "6",
         "apakah untuk pergantian paket layanan bisa sekaligus bundling promo tahunan?",
         "-1",
         "information",
         "0.0"
        ],
        [
         "7",
         "apakah jika saat proses pergantian paket layanan melalui Apps MyBiznet  terdapat kendala salah order bisa dicancel?",
         "-1",
         "information",
         "0.0"
        ],
        [
         "8",
         "Internet mati",
         "-1",
         null,
         null
        ],
        [
         "9",
         "apakah order promo bisa diproses berkali-kali?",
         "-1",
         "information",
         "0.0"
        ],
        [
         "10",
         "Internet saya mati min dari semalam",
         "-1",
         null,
         null
        ],
        [
         "11",
         "sudah dicoba restart tapi masih sama",
         "-1",
         null,
         null
        ],
        [
         "12",
         "apa saja syarat untuk pergantian nama akun biznet?",
         "0",
         "information",
         "0.0"
        ],
        [
         "13",
         "berapa lama proses pergantian nama akun biznet?",
         "0",
         "information",
         "0.0"
        ],
        [
         "14",
         "apakah bisa request pemisahan akun jika dalam satu akun terdaftar 2 billing pembayaran?",
         "-1",
         "information",
         "0.0"
        ],
        [
         "15",
         "saya mau pasang baru",
         "0",
         "information",
         "0.0"
        ],
        [
         "16",
         "Ingin pasang baru",
         "-1",
         null,
         null
        ],
        [
         "17",
         "apakah untuk pergantian email dan nomor telepon terdaftar harus mengisi form pergantian data?",
         "-1",
         "information",
         "0.0"
        ],
        [
         "18",
         "Ingin pasang baru di jonggol paket 0d",
         "-1",
         null,
         null
        ],
        [
         "19",
         "bogor gunung putri",
         "-1",
         null,
         null
        ],
        [
         "20",
         "boleh bantu ke cs ya",
         "-1",
         null,
         null
        ],
        [
         "21",
         "Perum BDB 2 blok AS 12A rt 06 rw 13",
         "-1",
         null,
         null
        ],
        [
         "22",
         "syarat relokasi apa saja?",
         "0",
         "information",
         "0.0"
        ],
        [
         "23",
         "cara mengecek cakupan area melalui apa ya?",
         "-1",
         "information",
         "0.0"
        ],
        [
         "24",
         "proses relokasi berapa lama?",
         "-1",
         "information",
         "0.0"
        ],
        [
         "25",
         "bilamana alamat baru belum tercakup layanan biznet apakah akun saya bisa dialihkan ke orang lain?",
         "0",
         "information",
         "0.0"
        ],
        [
         "26",
         "bilamana alamat baru belum tercakup layanan biznet, syarat terminasi apa saja?",
         "0",
         "information",
         "0.0"
        ],
        [
         "27",
         "setelah pengisian form terminasi saya harus menunggu berapa lama untuk akun diterimasi?",
         "-1",
         "information",
         "0.0"
        ],
        [
         "28",
         "jika saya terminasi sebelum masa kontak langganan berakhir dikarenakan alamat baru belum tercakup apakah  tidak dikenakan biaya pinati?",
         "-1",
         "information",
         "0.0"
        ],
        [
         "29",
         "bilamana kedepannnya saya ingin berlangganan kembali apakah bisa menggunakan akun yang sebelumnya?",
         "-1",
         "information",
         "0.0"
        ],
        [
         "30",
         "apakah bisa freeze akun?",
         "-1",
         "information",
         "0.0"
        ],
        [
         "31",
         "apakah bisa jika saya tidak bayar sebulan karena akan keluar kota?",
         "-1",
         "information",
         "0.0"
        ],
        [
         "32",
         "jika saya tidak melakukan pembayaran sebulan apakah dikenakan pinalti?",
         "0",
         "information",
         "0.0"
        ],
        [
         "33",
         "bagaimana cara pendaftaran kartu kredit?",
         "0",
         "information",
         "0.0"
        ],
        [
         "34",
         "apa saja paket yang tersedia di biznet?",
         "0",
         "information",
         "0.0"
        ],
        [
         "35",
         "bagaimana cara beli modem?",
         "0",
         "information",
         "0.0"
        ],
        [
         "36",
         "ini kenapa ya los merah menyala pada modem saya?",
         "0",
         "information",
         "0.0"
        ],
        [
         "37",
         "bisa dicek ID pelanggan 1000308564 los meah menyala sejak pagi?",
         "-1",
         null,
         null
        ],
        [
         "38",
         "los merah menyala sejak pagi",
         "-1",
         null,
         null
        ],
        [
         "39",
         "pada modem saya lampu merah menyala sejak pagi, bisa dicek?",
         "0",
         "information",
         "0.0"
        ],
        [
         "40",
         "apakah ada kompensasi jika koneksi internet biznet terputus berhari-hari?",
         "0",
         "information",
         "0.0"
        ],
        [
         "41",
         "bagaimana jika saya salah melakukan pembayaran ke akun biznet orang lain, apakah uang saya bisa direfund?",
         "0",
         "information",
         "0.0"
        ],
        [
         "42",
         "Kamu sebagai apa di biznet",
         "0",
         "information",
         "0.0"
        ],
        [
         "43",
         "Apa kah kamu kenal dengan pak Adi",
         "-1",
         "information",
         "0.0"
        ],
        [
         "44",
         "Siapa owner biznet",
         "-1",
         null,
         null
        ],
        [
         "45",
         "Itu kamu tau pak Adi owner biznet tadi ditanya gak tau",
         "-1",
         null,
         null
        ],
        [
         "46",
         "Saya minta no WhatsApp nya dong",
         "-1",
         null,
         null
        ],
        [
         "47",
         "Estimasi kunjungan teknisi biznet",
         "-1",
         null,
         null
        ],
        [
         "48",
         "Channel IPTV Biznet apa aja ya ?",
         "0",
         "information",
         "0.0"
        ],
        [
         "49",
         "Mau refund dana Biznet",
         "-1",
         null,
         null
        ]
       ],
       "shape": {
        "columns": 4,
        "rows": 1729
       }
      },
      "text/html": [
       "<div>\n",
       "<style scoped>\n",
       "    .dataframe tbody tr th:only-of-type {\n",
       "        vertical-align: middle;\n",
       "    }\n",
       "\n",
       "    .dataframe tbody tr th {\n",
       "        vertical-align: top;\n",
       "    }\n",
       "\n",
       "    .dataframe thead th {\n",
       "        text-align: right;\n",
       "    }\n",
       "</style>\n",
       "<table border=\"1\" class=\"dataframe\">\n",
       "  <thead>\n",
       "    <tr style=\"text-align: right;\">\n",
       "      <th></th>\n",
       "      <th>question</th>\n",
       "      <th>cluster</th>\n",
       "      <th>label</th>\n",
       "      <th>label_int</th>\n",
       "    </tr>\n",
       "  </thead>\n",
       "  <tbody>\n",
       "    <tr>\n",
       "      <th>0</th>\n",
       "      <td>Internet mati nih</td>\n",
       "      <td>-1</td>\n",
       "      <td>NaN</td>\n",
       "      <td>NaN</td>\n",
       "    </tr>\n",
       "    <tr>\n",
       "      <th>1</th>\n",
       "      <td>Harga STB berapa ya?</td>\n",
       "      <td>-1</td>\n",
       "      <td>information</td>\n",
       "      <td>0.0</td>\n",
       "    </tr>\n",
       "    <tr>\n",
       "      <th>2</th>\n",
       "      <td>Internet saya putus sambung</td>\n",
       "      <td>0</td>\n",
       "      <td>information</td>\n",
       "      <td>0.0</td>\n",
       "    </tr>\n",
       "    <tr>\n",
       "      <th>3</th>\n",
       "      <td>Mengapa saya tidak dapat mengisi formulir relo...</td>\n",
       "      <td>-1</td>\n",
       "      <td>NaN</td>\n",
       "      <td>NaN</td>\n",
       "    </tr>\n",
       "    <tr>\n",
       "      <th>4</th>\n",
       "      <td>mengapa ketika ingin melakukan pembayaran tida...</td>\n",
       "      <td>-1</td>\n",
       "      <td>NaN</td>\n",
       "      <td>NaN</td>\n",
       "    </tr>\n",
       "    <tr>\n",
       "      <th>...</th>\n",
       "      <td>...</td>\n",
       "      <td>...</td>\n",
       "      <td>...</td>\n",
       "      <td>...</td>\n",
       "    </tr>\n",
       "    <tr>\n",
       "      <th>1724</th>\n",
       "      <td>harga modem berapa?</td>\n",
       "      <td>0</td>\n",
       "      <td>information</td>\n",
       "      <td>0.0</td>\n",
       "    </tr>\n",
       "    <tr>\n",
       "      <th>1725</th>\n",
       "      <td>kapan mybiznet ada di appstore?</td>\n",
       "      <td>-1</td>\n",
       "      <td>information</td>\n",
       "      <td>0.0</td>\n",
       "    </tr>\n",
       "    <tr>\n",
       "      <th>1726</th>\n",
       "      <td>Saya tidak bisa melakukan pembayaran melalui B...</td>\n",
       "      <td>3</td>\n",
       "      <td>information</td>\n",
       "      <td>0.0</td>\n",
       "    </tr>\n",
       "    <tr>\n",
       "      <th>1727</th>\n",
       "      <td>untuk promo biznet home ada apa saja?</td>\n",
       "      <td>0</td>\n",
       "      <td>information</td>\n",
       "      <td>0.0</td>\n",
       "    </tr>\n",
       "    <tr>\n",
       "      <th>1728</th>\n",
       "      <td>Min internet saya putus sambung dari sore tadi...</td>\n",
       "      <td>0</td>\n",
       "      <td>information</td>\n",
       "      <td>0.0</td>\n",
       "    </tr>\n",
       "  </tbody>\n",
       "</table>\n",
       "<p>1729 rows × 4 columns</p>\n",
       "</div>"
      ],
      "text/plain": [
       "                                               question  cluster        label  \\\n",
       "0                                     Internet mati nih       -1          NaN   \n",
       "1                                  Harga STB berapa ya?       -1  information   \n",
       "2                           Internet saya putus sambung        0  information   \n",
       "3     Mengapa saya tidak dapat mengisi formulir relo...       -1          NaN   \n",
       "4     mengapa ketika ingin melakukan pembayaran tida...       -1          NaN   \n",
       "...                                                 ...      ...          ...   \n",
       "1724                                harga modem berapa?        0  information   \n",
       "1725                    kapan mybiznet ada di appstore?       -1  information   \n",
       "1726  Saya tidak bisa melakukan pembayaran melalui B...        3  information   \n",
       "1727              untuk promo biznet home ada apa saja?        0  information   \n",
       "1728  Min internet saya putus sambung dari sore tadi...        0  information   \n",
       "\n",
       "      label_int  \n",
       "0           NaN  \n",
       "1           0.0  \n",
       "2           0.0  \n",
       "3           NaN  \n",
       "4           NaN  \n",
       "...         ...  \n",
       "1724        0.0  \n",
       "1725        0.0  \n",
       "1726        0.0  \n",
       "1727        0.0  \n",
       "1728        0.0  \n",
       "\n",
       "[1729 rows x 4 columns]"
      ]
     },
     "execution_count": 13,
     "metadata": {},
     "output_type": "execute_result"
    }
   ],
   "source": [
    "df"
   ]
  },
  {
   "cell_type": "markdown",
   "id": "62011c35",
   "metadata": {},
   "source": [
    "##### regex for \"Problem\" label\n",
    "pada label \"Problem\" digunakan kata kunci: mati, lambat, down, slow, putus"
   ]
  },
  {
   "cell_type": "code",
   "execution_count": 14,
   "id": "d49e298d",
   "metadata": {},
   "outputs": [
    {
     "name": "stderr",
     "output_type": "stream",
     "text": [
      "C:\\Users\\adity\\AppData\\Local\\Temp\\ipykernel_4476\\2418420746.py:4: UserWarning: This pattern is interpreted as a regular expression, and has match groups. To actually get the groups, use str.extract.\n",
      "  mask = df['label'].isna() & df['question'].str.contains(keywords, flags=re.IGNORECASE, regex=True)\n"
     ]
    }
   ],
   "source": [
    "keywords = r'\\b(mati|lambat|down|slow|putus)\\b'\n",
    "\n",
    "# Filter: hanya baris tanpa label dan mengandung kata kunci\n",
    "mask = df['label'].isna() & df['question'].str.contains(keywords, flags=re.IGNORECASE, regex=True)\n",
    "\n",
    "# Tetapkan label\n",
    "df.loc[mask, 'label'] = 'problem'\n",
    "df.loc[mask, 'label_int'] = 2"
   ]
  },
  {
   "cell_type": "code",
   "execution_count": 15,
   "id": "7023974c",
   "metadata": {},
   "outputs": [
    {
     "data": {
      "application/vnd.microsoft.datawrangler.viewer.v0+json": {
       "columns": [
        {
         "name": "index",
         "rawType": "int64",
         "type": "integer"
        },
        {
         "name": "question",
         "rawType": "object",
         "type": "string"
        },
        {
         "name": "cluster",
         "rawType": "int64",
         "type": "integer"
        },
        {
         "name": "label",
         "rawType": "object",
         "type": "unknown"
        },
        {
         "name": "label_int",
         "rawType": "float64",
         "type": "float"
        }
       ],
       "conversionMethod": "pd.DataFrame",
       "ref": "50bbc04b-69e0-4743-8b96-02de912f2bf6",
       "rows": [
        [
         "0",
         "Internet mati nih",
         "-1",
         "problem",
         "2.0"
        ],
        [
         "1",
         "Harga STB berapa ya?",
         "-1",
         "information",
         "0.0"
        ],
        [
         "2",
         "Internet saya putus sambung",
         "0",
         "information",
         "0.0"
        ],
        [
         "3",
         "Mengapa saya tidak dapat mengisi formulir relokasi? setelah disubmit hanya blank",
         "-1",
         null,
         null
        ],
        [
         "4",
         "mengapa ketika ingin melakukan pembayaran tidak dapat diproses?",
         "-1",
         null,
         null
        ],
        [
         "5",
         "bisa dibantu informasikan prosedur pergantian paket layanan?",
         "-1",
         null,
         null
        ],
        [
         "6",
         "apakah untuk pergantian paket layanan bisa sekaligus bundling promo tahunan?",
         "-1",
         "information",
         "0.0"
        ],
        [
         "7",
         "apakah jika saat proses pergantian paket layanan melalui Apps MyBiznet  terdapat kendala salah order bisa dicancel?",
         "-1",
         "information",
         "0.0"
        ],
        [
         "8",
         "Internet mati",
         "-1",
         "problem",
         "2.0"
        ],
        [
         "9",
         "apakah order promo bisa diproses berkali-kali?",
         "-1",
         "information",
         "0.0"
        ],
        [
         "10",
         "Internet saya mati min dari semalam",
         "-1",
         "problem",
         "2.0"
        ],
        [
         "11",
         "sudah dicoba restart tapi masih sama",
         "-1",
         null,
         null
        ],
        [
         "12",
         "apa saja syarat untuk pergantian nama akun biznet?",
         "0",
         "information",
         "0.0"
        ],
        [
         "13",
         "berapa lama proses pergantian nama akun biznet?",
         "0",
         "information",
         "0.0"
        ],
        [
         "14",
         "apakah bisa request pemisahan akun jika dalam satu akun terdaftar 2 billing pembayaran?",
         "-1",
         "information",
         "0.0"
        ],
        [
         "15",
         "saya mau pasang baru",
         "0",
         "information",
         "0.0"
        ],
        [
         "16",
         "Ingin pasang baru",
         "-1",
         null,
         null
        ],
        [
         "17",
         "apakah untuk pergantian email dan nomor telepon terdaftar harus mengisi form pergantian data?",
         "-1",
         "information",
         "0.0"
        ],
        [
         "18",
         "Ingin pasang baru di jonggol paket 0d",
         "-1",
         null,
         null
        ],
        [
         "19",
         "bogor gunung putri",
         "-1",
         null,
         null
        ],
        [
         "20",
         "boleh bantu ke cs ya",
         "-1",
         null,
         null
        ],
        [
         "21",
         "Perum BDB 2 blok AS 12A rt 06 rw 13",
         "-1",
         null,
         null
        ],
        [
         "22",
         "syarat relokasi apa saja?",
         "0",
         "information",
         "0.0"
        ],
        [
         "23",
         "cara mengecek cakupan area melalui apa ya?",
         "-1",
         "information",
         "0.0"
        ],
        [
         "24",
         "proses relokasi berapa lama?",
         "-1",
         "information",
         "0.0"
        ],
        [
         "25",
         "bilamana alamat baru belum tercakup layanan biznet apakah akun saya bisa dialihkan ke orang lain?",
         "0",
         "information",
         "0.0"
        ],
        [
         "26",
         "bilamana alamat baru belum tercakup layanan biznet, syarat terminasi apa saja?",
         "0",
         "information",
         "0.0"
        ],
        [
         "27",
         "setelah pengisian form terminasi saya harus menunggu berapa lama untuk akun diterimasi?",
         "-1",
         "information",
         "0.0"
        ],
        [
         "28",
         "jika saya terminasi sebelum masa kontak langganan berakhir dikarenakan alamat baru belum tercakup apakah  tidak dikenakan biaya pinati?",
         "-1",
         "information",
         "0.0"
        ],
        [
         "29",
         "bilamana kedepannnya saya ingin berlangganan kembali apakah bisa menggunakan akun yang sebelumnya?",
         "-1",
         "information",
         "0.0"
        ],
        [
         "30",
         "apakah bisa freeze akun?",
         "-1",
         "information",
         "0.0"
        ],
        [
         "31",
         "apakah bisa jika saya tidak bayar sebulan karena akan keluar kota?",
         "-1",
         "information",
         "0.0"
        ],
        [
         "32",
         "jika saya tidak melakukan pembayaran sebulan apakah dikenakan pinalti?",
         "0",
         "information",
         "0.0"
        ],
        [
         "33",
         "bagaimana cara pendaftaran kartu kredit?",
         "0",
         "information",
         "0.0"
        ],
        [
         "34",
         "apa saja paket yang tersedia di biznet?",
         "0",
         "information",
         "0.0"
        ],
        [
         "35",
         "bagaimana cara beli modem?",
         "0",
         "information",
         "0.0"
        ],
        [
         "36",
         "ini kenapa ya los merah menyala pada modem saya?",
         "0",
         "information",
         "0.0"
        ],
        [
         "37",
         "bisa dicek ID pelanggan 1000308564 los meah menyala sejak pagi?",
         "-1",
         null,
         null
        ],
        [
         "38",
         "los merah menyala sejak pagi",
         "-1",
         null,
         null
        ],
        [
         "39",
         "pada modem saya lampu merah menyala sejak pagi, bisa dicek?",
         "0",
         "information",
         "0.0"
        ],
        [
         "40",
         "apakah ada kompensasi jika koneksi internet biznet terputus berhari-hari?",
         "0",
         "information",
         "0.0"
        ],
        [
         "41",
         "bagaimana jika saya salah melakukan pembayaran ke akun biznet orang lain, apakah uang saya bisa direfund?",
         "0",
         "information",
         "0.0"
        ],
        [
         "42",
         "Kamu sebagai apa di biznet",
         "0",
         "information",
         "0.0"
        ],
        [
         "43",
         "Apa kah kamu kenal dengan pak Adi",
         "-1",
         "information",
         "0.0"
        ],
        [
         "44",
         "Siapa owner biznet",
         "-1",
         null,
         null
        ],
        [
         "45",
         "Itu kamu tau pak Adi owner biznet tadi ditanya gak tau",
         "-1",
         null,
         null
        ],
        [
         "46",
         "Saya minta no WhatsApp nya dong",
         "-1",
         null,
         null
        ],
        [
         "47",
         "Estimasi kunjungan teknisi biznet",
         "-1",
         null,
         null
        ],
        [
         "48",
         "Channel IPTV Biznet apa aja ya ?",
         "0",
         "information",
         "0.0"
        ],
        [
         "49",
         "Mau refund dana Biznet",
         "-1",
         null,
         null
        ]
       ],
       "shape": {
        "columns": 4,
        "rows": 1729
       }
      },
      "text/html": [
       "<div>\n",
       "<style scoped>\n",
       "    .dataframe tbody tr th:only-of-type {\n",
       "        vertical-align: middle;\n",
       "    }\n",
       "\n",
       "    .dataframe tbody tr th {\n",
       "        vertical-align: top;\n",
       "    }\n",
       "\n",
       "    .dataframe thead th {\n",
       "        text-align: right;\n",
       "    }\n",
       "</style>\n",
       "<table border=\"1\" class=\"dataframe\">\n",
       "  <thead>\n",
       "    <tr style=\"text-align: right;\">\n",
       "      <th></th>\n",
       "      <th>question</th>\n",
       "      <th>cluster</th>\n",
       "      <th>label</th>\n",
       "      <th>label_int</th>\n",
       "    </tr>\n",
       "  </thead>\n",
       "  <tbody>\n",
       "    <tr>\n",
       "      <th>0</th>\n",
       "      <td>Internet mati nih</td>\n",
       "      <td>-1</td>\n",
       "      <td>problem</td>\n",
       "      <td>2.0</td>\n",
       "    </tr>\n",
       "    <tr>\n",
       "      <th>1</th>\n",
       "      <td>Harga STB berapa ya?</td>\n",
       "      <td>-1</td>\n",
       "      <td>information</td>\n",
       "      <td>0.0</td>\n",
       "    </tr>\n",
       "    <tr>\n",
       "      <th>2</th>\n",
       "      <td>Internet saya putus sambung</td>\n",
       "      <td>0</td>\n",
       "      <td>information</td>\n",
       "      <td>0.0</td>\n",
       "    </tr>\n",
       "    <tr>\n",
       "      <th>3</th>\n",
       "      <td>Mengapa saya tidak dapat mengisi formulir relo...</td>\n",
       "      <td>-1</td>\n",
       "      <td>NaN</td>\n",
       "      <td>NaN</td>\n",
       "    </tr>\n",
       "    <tr>\n",
       "      <th>4</th>\n",
       "      <td>mengapa ketika ingin melakukan pembayaran tida...</td>\n",
       "      <td>-1</td>\n",
       "      <td>NaN</td>\n",
       "      <td>NaN</td>\n",
       "    </tr>\n",
       "    <tr>\n",
       "      <th>...</th>\n",
       "      <td>...</td>\n",
       "      <td>...</td>\n",
       "      <td>...</td>\n",
       "      <td>...</td>\n",
       "    </tr>\n",
       "    <tr>\n",
       "      <th>1724</th>\n",
       "      <td>harga modem berapa?</td>\n",
       "      <td>0</td>\n",
       "      <td>information</td>\n",
       "      <td>0.0</td>\n",
       "    </tr>\n",
       "    <tr>\n",
       "      <th>1725</th>\n",
       "      <td>kapan mybiznet ada di appstore?</td>\n",
       "      <td>-1</td>\n",
       "      <td>information</td>\n",
       "      <td>0.0</td>\n",
       "    </tr>\n",
       "    <tr>\n",
       "      <th>1726</th>\n",
       "      <td>Saya tidak bisa melakukan pembayaran melalui B...</td>\n",
       "      <td>3</td>\n",
       "      <td>information</td>\n",
       "      <td>0.0</td>\n",
       "    </tr>\n",
       "    <tr>\n",
       "      <th>1727</th>\n",
       "      <td>untuk promo biznet home ada apa saja?</td>\n",
       "      <td>0</td>\n",
       "      <td>information</td>\n",
       "      <td>0.0</td>\n",
       "    </tr>\n",
       "    <tr>\n",
       "      <th>1728</th>\n",
       "      <td>Min internet saya putus sambung dari sore tadi...</td>\n",
       "      <td>0</td>\n",
       "      <td>information</td>\n",
       "      <td>0.0</td>\n",
       "    </tr>\n",
       "  </tbody>\n",
       "</table>\n",
       "<p>1729 rows × 4 columns</p>\n",
       "</div>"
      ],
      "text/plain": [
       "                                               question  cluster        label  \\\n",
       "0                                     Internet mati nih       -1      problem   \n",
       "1                                  Harga STB berapa ya?       -1  information   \n",
       "2                           Internet saya putus sambung        0  information   \n",
       "3     Mengapa saya tidak dapat mengisi formulir relo...       -1          NaN   \n",
       "4     mengapa ketika ingin melakukan pembayaran tida...       -1          NaN   \n",
       "...                                                 ...      ...          ...   \n",
       "1724                                harga modem berapa?        0  information   \n",
       "1725                    kapan mybiznet ada di appstore?       -1  information   \n",
       "1726  Saya tidak bisa melakukan pembayaran melalui B...        3  information   \n",
       "1727              untuk promo biznet home ada apa saja?        0  information   \n",
       "1728  Min internet saya putus sambung dari sore tadi...        0  information   \n",
       "\n",
       "      label_int  \n",
       "0           2.0  \n",
       "1           0.0  \n",
       "2           0.0  \n",
       "3           NaN  \n",
       "4           NaN  \n",
       "...         ...  \n",
       "1724        0.0  \n",
       "1725        0.0  \n",
       "1726        0.0  \n",
       "1727        0.0  \n",
       "1728        0.0  \n",
       "\n",
       "[1729 rows x 4 columns]"
      ]
     },
     "execution_count": 15,
     "metadata": {},
     "output_type": "execute_result"
    }
   ],
   "source": [
    "df"
   ]
  },
  {
   "cell_type": "markdown",
   "id": "b2574f32",
   "metadata": {},
   "source": [
    "##### export data"
   ]
  },
  {
   "cell_type": "code",
   "execution_count": 17,
   "id": "8d74911c",
   "metadata": {},
   "outputs": [],
   "source": [
    "df.to_csv('../resources/data/labeled_question_list_2.csv', index=False)"
   ]
  },
  {
   "cell_type": "markdown",
   "id": "b3a6ba9b",
   "metadata": {},
   "source": [
    "### c. Labeling Manual\n",
    "pada tahapan ini dilakukan labeling manual berdasarkan id data yang telah ditentukan."
   ]
  },
  {
   "cell_type": "code",
   "execution_count": 18,
   "id": "882b0870",
   "metadata": {},
   "outputs": [],
   "source": [
    "df = pd.read_csv('../resources/data/labeled_question_list_2.csv')"
   ]
  },
  {
   "cell_type": "code",
   "execution_count": null,
   "id": "cc0c020d",
   "metadata": {},
   "outputs": [],
   "source": [
    "df"
   ]
  },
  {
   "cell_type": "code",
   "execution_count": 129,
   "id": "20c7f824",
   "metadata": {},
   "outputs": [],
   "source": [
    "id_list = [\n",
    "    49, 60, 85, 131, 466, 469, 471, 474, 608, 618, 633, 639, 642, 649, 650, 654, 670, 744, 745, 802, 807, 817, 838, 868, 920, 928, 949, 951, 982, 994, 1014, 1035, 1037, 1038, 1041, 1069, 1070, 1117, 1118, 1120, 1128, 1129, 1170, 1176, 1177, 1190, 1191, 1193, 1214, 1220, 1236, 1252, 1257, 1262, 1334, 1336, 1349, 1360, 1383, 1397, 1403, 1452, 1492, 1508, 1516, 1543, 1582, 1589, 1595, 1596, 1608, 1610, 1612, 1615, 1620, 1627, 1658, 1667, 1678, 1713, 1717, 1722\n",
    "]\n",
    "\n",
    "df.loc[df.index.isin(id_list), 'label'] = 'request'\n",
    "df.loc[df.index.isin(id_list), 'label_int'] = 1"
   ]
  },
  {
   "cell_type": "code",
   "execution_count": 130,
   "id": "b33e049d",
   "metadata": {},
   "outputs": [
    {
     "data": {
      "text/html": [
       "<div>\n",
       "<style scoped>\n",
       "    .dataframe tbody tr th:only-of-type {\n",
       "        vertical-align: middle;\n",
       "    }\n",
       "\n",
       "    .dataframe tbody tr th {\n",
       "        vertical-align: top;\n",
       "    }\n",
       "\n",
       "    .dataframe thead th {\n",
       "        text-align: right;\n",
       "    }\n",
       "</style>\n",
       "<table border=\"1\" class=\"dataframe\">\n",
       "  <thead>\n",
       "    <tr style=\"text-align: right;\">\n",
       "      <th></th>\n",
       "      <th>question</th>\n",
       "      <th>cluster</th>\n",
       "      <th>label</th>\n",
       "      <th>label_int</th>\n",
       "    </tr>\n",
       "  </thead>\n",
       "  <tbody>\n",
       "    <tr>\n",
       "      <th>0</th>\n",
       "      <td>Internet mati nih</td>\n",
       "      <td>-1</td>\n",
       "      <td>problem</td>\n",
       "      <td>2.0</td>\n",
       "    </tr>\n",
       "    <tr>\n",
       "      <th>1</th>\n",
       "      <td>Harga STB berapa ya?</td>\n",
       "      <td>-1</td>\n",
       "      <td>information</td>\n",
       "      <td>0.0</td>\n",
       "    </tr>\n",
       "    <tr>\n",
       "      <th>2</th>\n",
       "      <td>Internet saya putus sambung</td>\n",
       "      <td>0</td>\n",
       "      <td>information</td>\n",
       "      <td>0.0</td>\n",
       "    </tr>\n",
       "    <tr>\n",
       "      <th>3</th>\n",
       "      <td>Mengapa saya tidak dapat mengisi formulir relo...</td>\n",
       "      <td>-1</td>\n",
       "      <td>NaN</td>\n",
       "      <td>NaN</td>\n",
       "    </tr>\n",
       "    <tr>\n",
       "      <th>4</th>\n",
       "      <td>mengapa ketika ingin melakukan pembayaran tida...</td>\n",
       "      <td>-1</td>\n",
       "      <td>NaN</td>\n",
       "      <td>NaN</td>\n",
       "    </tr>\n",
       "    <tr>\n",
       "      <th>...</th>\n",
       "      <td>...</td>\n",
       "      <td>...</td>\n",
       "      <td>...</td>\n",
       "      <td>...</td>\n",
       "    </tr>\n",
       "    <tr>\n",
       "      <th>1724</th>\n",
       "      <td>harga modem berapa?</td>\n",
       "      <td>0</td>\n",
       "      <td>information</td>\n",
       "      <td>0.0</td>\n",
       "    </tr>\n",
       "    <tr>\n",
       "      <th>1725</th>\n",
       "      <td>kapan mybiznet ada di appstore?</td>\n",
       "      <td>-1</td>\n",
       "      <td>information</td>\n",
       "      <td>0.0</td>\n",
       "    </tr>\n",
       "    <tr>\n",
       "      <th>1726</th>\n",
       "      <td>Saya tidak bisa melakukan pembayaran melalui B...</td>\n",
       "      <td>3</td>\n",
       "      <td>information</td>\n",
       "      <td>0.0</td>\n",
       "    </tr>\n",
       "    <tr>\n",
       "      <th>1727</th>\n",
       "      <td>untuk promo biznet home ada apa saja?</td>\n",
       "      <td>0</td>\n",
       "      <td>information</td>\n",
       "      <td>0.0</td>\n",
       "    </tr>\n",
       "    <tr>\n",
       "      <th>1728</th>\n",
       "      <td>Min internet saya putus sambung dari sore tadi...</td>\n",
       "      <td>0</td>\n",
       "      <td>information</td>\n",
       "      <td>0.0</td>\n",
       "    </tr>\n",
       "  </tbody>\n",
       "</table>\n",
       "<p>1729 rows × 4 columns</p>\n",
       "</div>"
      ],
      "text/plain": [
       "                                               question  cluster        label  \\\n",
       "0                                     Internet mati nih       -1      problem   \n",
       "1                                  Harga STB berapa ya?       -1  information   \n",
       "2                           Internet saya putus sambung        0  information   \n",
       "3     Mengapa saya tidak dapat mengisi formulir relo...       -1          NaN   \n",
       "4     mengapa ketika ingin melakukan pembayaran tida...       -1          NaN   \n",
       "...                                                 ...      ...          ...   \n",
       "1724                                harga modem berapa?        0  information   \n",
       "1725                    kapan mybiznet ada di appstore?       -1  information   \n",
       "1726  Saya tidak bisa melakukan pembayaran melalui B...        3  information   \n",
       "1727              untuk promo biznet home ada apa saja?        0  information   \n",
       "1728  Min internet saya putus sambung dari sore tadi...        0  information   \n",
       "\n",
       "      label_int  \n",
       "0           2.0  \n",
       "1           0.0  \n",
       "2           0.0  \n",
       "3           NaN  \n",
       "4           NaN  \n",
       "...         ...  \n",
       "1724        0.0  \n",
       "1725        0.0  \n",
       "1726        0.0  \n",
       "1727        0.0  \n",
       "1728        0.0  \n",
       "\n",
       "[1729 rows x 4 columns]"
      ]
     },
     "execution_count": 130,
     "metadata": {},
     "output_type": "execute_result"
    }
   ],
   "source": [
    "df"
   ]
  },
  {
   "cell_type": "code",
   "execution_count": null,
   "id": "67275bf6",
   "metadata": {},
   "outputs": [],
   "source": [
    "df.to_csv('../resources/data/labeled_question_list_3.csv', index=False)"
   ]
  },
  {
   "cell_type": "markdown",
   "id": "f60c8f46",
   "metadata": {},
   "source": [
    "### d. Lebelling with LLM (CANCELED)\n",
    "Karena masih terdapat banyak data yang belum terlabel, selanjutnya akan melakukan proses pelabelan dengan bantuan LLM. "
   ]
  },
  {
   "cell_type": "code",
   "execution_count": null,
   "id": "205384a1",
   "metadata": {},
   "outputs": [],
   "source": [
    "from langchain_groq import ChatGroq\n",
    "from langchain_core.output_parsers import StrOutputParser\n",
    "from langchain_core.prompts import ChatPromptTemplate\n",
    "\n",
    "API_KEY = \"...\"\n",
    "MODEL_NAME = \"llama-3.3-70b-versatile\""
   ]
  },
  {
   "cell_type": "code",
   "execution_count": 90,
   "id": "0853a305",
   "metadata": {},
   "outputs": [],
   "source": [
    "df = pd.read_csv('../data/labeled_question_list_3.csv')"
   ]
  },
  {
   "cell_type": "code",
   "execution_count": null,
   "id": "1df02fed",
   "metadata": {},
   "outputs": [],
   "source": [
    "# -- load the model\n",
    "llm = ChatGroq(\n",
    "    temperature=0, \n",
    "    groq_api_key=API_KEY, \n",
    "    model_name=MODEL_NAME\n",
    ")\n",
    "\n",
    "output_parser=StrOutputParser()\n",
    "\n",
    "batch_prompt_template = ChatPromptTemplate.from_template(\"\"\"\n",
    "Anda adalah classifier pesan pelanggan ISP. \n",
    "Klasifikasikan pesan berikut ke salah satu kategori:\n",
    "- 'information' (untuk permintaan informasi)\n",
    "- 'request' (untuk permintaan layanan)\n",
    "- 'problem' (untuk pengaduan masalah)\n",
    "\n",
    "Aturan:\n",
    "1. Hanya respon dengan salah satu dari ['information', 'request', 'problem']\n",
    "2. Jangan tambahkan penjelasan apapun\n",
    "3. Jika ragu antara 'request' dan 'problem', pilih 'problem'\n",
    "\n",
    "Contoh:\n",
    "Pesan: \"Berapa harga paket 100Mbps?\" → information\n",
    "Pesan: \"Internet saya lambat hari ini\" → problem\n",
    "Pesan: \"Saya mau pindah alamat pemasangan\" → request\n",
    "\n",
    "Contoh input:\n",
    "1. \"Berapa harga paket 100Mbps?\"\n",
    "2. \"Internet saya lambat\"\n",
    "3. \"Minta pindah alamat\"\n",
    "\n",
    "Contoh output dalam format:\n",
    "information,problem,request\n",
    "\n",
    "Sekarang klasifikasikan pesan-pesan berikut:\n",
    "{messages}\n",
    "\"\"\")\n",
    "\n",
    "chain=batch_prompt_template|llm|output_parser"
   ]
  },
  {
   "cell_type": "code",
   "execution_count": 116,
   "id": "a8045811",
   "metadata": {},
   "outputs": [
    {
     "name": "stdout",
     "output_type": "stream",
     "text": [
      "problem,problem,information\n"
     ]
    }
   ],
   "source": [
    "input_list = [\n",
    "    \"Teman saya pelanggan Biznet kok dapat gratis kesehatan, saya tidak dapat?\",\n",
    "    \"Internetnya lambat\",\n",
    "    \"saya mau cek quota saya\",    \n",
    "]\n",
    "\n",
    "formatted_messages = \"\\n\".join(f\"{idx+1}. \\\"{msg}\\\"\" for idx, msg in enumerate(input_list))\n",
    "\n",
    "response = chain.invoke({'messages':formatted_messages})\n",
    "print(response)"
   ]
  },
  {
   "cell_type": "markdown",
   "id": "bd76db65",
   "metadata": {},
   "source": [
    "## 3. Data Cleaning\n",
    "Tahap ini melakukan pembersihan data dari hasil labeling diatas."
   ]
  },
  {
   "cell_type": "code",
   "execution_count": 19,
   "id": "fe14e36c",
   "metadata": {},
   "outputs": [],
   "source": [
    "df = pd.read_csv('../resources/data/labeled_question_list_3.csv')"
   ]
  },
  {
   "cell_type": "code",
   "execution_count": 20,
   "id": "0a08ee41",
   "metadata": {},
   "outputs": [],
   "source": [
    "# remove unlabeled data\n",
    "df = df[df.label.notnull()]\n",
    "df = df.drop('cluster', axis=1)"
   ]
  },
  {
   "cell_type": "code",
   "execution_count": 21,
   "id": "a92c9760",
   "metadata": {},
   "outputs": [
    {
     "data": {
      "application/vnd.microsoft.datawrangler.viewer.v0+json": {
       "columns": [
        {
         "name": "index",
         "rawType": "int64",
         "type": "integer"
        },
        {
         "name": "question",
         "rawType": "object",
         "type": "string"
        },
        {
         "name": "label",
         "rawType": "object",
         "type": "string"
        },
        {
         "name": "label_int",
         "rawType": "float64",
         "type": "float"
        }
       ],
       "conversionMethod": "pd.DataFrame",
       "ref": "7f3907e9-00bc-4ed1-86c3-97dab8787f63",
       "rows": [
        [
         "0",
         "Internet mati nih",
         "problem",
         "2.0"
        ],
        [
         "1",
         "Harga STB berapa ya?",
         "information",
         "0.0"
        ],
        [
         "2",
         "Internet saya putus sambung",
         "information",
         "0.0"
        ],
        [
         "6",
         "apakah untuk pergantian paket layanan bisa sekaligus bundling promo tahunan?",
         "information",
         "0.0"
        ],
        [
         "7",
         "apakah jika saat proses pergantian paket layanan melalui Apps MyBiznet  terdapat kendala salah order bisa dicancel?",
         "information",
         "0.0"
        ],
        [
         "8",
         "Internet mati",
         "problem",
         "2.0"
        ],
        [
         "9",
         "apakah order promo bisa diproses berkali-kali?",
         "information",
         "0.0"
        ],
        [
         "10",
         "Internet saya mati min dari semalam",
         "problem",
         "2.0"
        ],
        [
         "12",
         "apa saja syarat untuk pergantian nama akun biznet?",
         "information",
         "0.0"
        ],
        [
         "13",
         "berapa lama proses pergantian nama akun biznet?",
         "information",
         "0.0"
        ],
        [
         "14",
         "apakah bisa request pemisahan akun jika dalam satu akun terdaftar 2 billing pembayaran?",
         "information",
         "0.0"
        ],
        [
         "15",
         "saya mau pasang baru",
         "information",
         "0.0"
        ],
        [
         "17",
         "apakah untuk pergantian email dan nomor telepon terdaftar harus mengisi form pergantian data?",
         "information",
         "0.0"
        ],
        [
         "22",
         "syarat relokasi apa saja?",
         "information",
         "0.0"
        ],
        [
         "23",
         "cara mengecek cakupan area melalui apa ya?",
         "information",
         "0.0"
        ],
        [
         "24",
         "proses relokasi berapa lama?",
         "information",
         "0.0"
        ],
        [
         "25",
         "bilamana alamat baru belum tercakup layanan biznet apakah akun saya bisa dialihkan ke orang lain?",
         "information",
         "0.0"
        ],
        [
         "26",
         "bilamana alamat baru belum tercakup layanan biznet, syarat terminasi apa saja?",
         "information",
         "0.0"
        ],
        [
         "27",
         "setelah pengisian form terminasi saya harus menunggu berapa lama untuk akun diterimasi?",
         "information",
         "0.0"
        ],
        [
         "28",
         "jika saya terminasi sebelum masa kontak langganan berakhir dikarenakan alamat baru belum tercakup apakah  tidak dikenakan biaya pinati?",
         "information",
         "0.0"
        ],
        [
         "29",
         "bilamana kedepannnya saya ingin berlangganan kembali apakah bisa menggunakan akun yang sebelumnya?",
         "information",
         "0.0"
        ],
        [
         "30",
         "apakah bisa freeze akun?",
         "information",
         "0.0"
        ],
        [
         "31",
         "apakah bisa jika saya tidak bayar sebulan karena akan keluar kota?",
         "information",
         "0.0"
        ],
        [
         "32",
         "jika saya tidak melakukan pembayaran sebulan apakah dikenakan pinalti?",
         "information",
         "0.0"
        ],
        [
         "33",
         "bagaimana cara pendaftaran kartu kredit?",
         "information",
         "0.0"
        ],
        [
         "34",
         "apa saja paket yang tersedia di biznet?",
         "information",
         "0.0"
        ],
        [
         "35",
         "bagaimana cara beli modem?",
         "information",
         "0.0"
        ],
        [
         "36",
         "ini kenapa ya los merah menyala pada modem saya?",
         "information",
         "0.0"
        ],
        [
         "39",
         "pada modem saya lampu merah menyala sejak pagi, bisa dicek?",
         "information",
         "0.0"
        ],
        [
         "40",
         "apakah ada kompensasi jika koneksi internet biznet terputus berhari-hari?",
         "information",
         "0.0"
        ],
        [
         "41",
         "bagaimana jika saya salah melakukan pembayaran ke akun biznet orang lain, apakah uang saya bisa direfund?",
         "information",
         "0.0"
        ],
        [
         "42",
         "Kamu sebagai apa di biznet",
         "information",
         "0.0"
        ],
        [
         "43",
         "Apa kah kamu kenal dengan pak Adi",
         "information",
         "0.0"
        ],
        [
         "48",
         "Channel IPTV Biznet apa aja ya ?",
         "information",
         "0.0"
        ],
        [
         "49",
         "Mau refund dana Biznet",
         "request",
         "1.0"
        ],
        [
         "51",
         "Bagaimana cara cek IP Server game valorant ?",
         "information",
         "0.0"
        ],
        [
         "52",
         "Berapa jarak ideal dari DP terdekat ke rumah untuk pemasangan ?",
         "information",
         "0.0"
        ],
        [
         "53",
         "cara relokasi layanan",
         "information",
         "0.0"
        ],
        [
         "57",
         "Modem biznet wifi berapa ?",
         "information",
         "0.0"
        ],
        [
         "58",
         "Apakah modem Biznet sudah support wifi 6 ?",
         "information",
         "0.0"
        ],
        [
         "60",
         "Mau mengajukan sponsorship",
         "request",
         "1.0"
        ],
        [
         "61",
         "saya salah melakukan pembayaran ke akun orang lain",
         "information",
         "0.0"
        ],
        [
         "62",
         "Apa kelemahan koneksi dengan fiber ?",
         "information",
         "0.0"
        ],
        [
         "67",
         "Apa itu DDNS ?",
         "information",
         "0.0"
        ],
        [
         "68",
         "Bagaimana cara mengatur DDNS ?",
         "information",
         "0.0"
        ],
        [
         "69",
         "cara pembayaran Biznet Home.",
         "information",
         "0.0"
        ],
        [
         "73",
         "Rekomendasi router dari Biznet",
         "information",
         "0.0"
        ],
        [
         "74",
         "Rekomendasi router tambahan dari Biznet",
         "information",
         "0.0"
        ],
        [
         "75",
         "Internet saya down sudah 2 hari apa ada kompensasi ?",
         "information",
         "0.0"
        ],
        [
         "78",
         "Berapa perangkat untuk 0D ?",
         "information",
         "0.0"
        ]
       ],
       "shape": {
        "columns": 3,
        "rows": 1187
       }
      },
      "text/html": [
       "<div>\n",
       "<style scoped>\n",
       "    .dataframe tbody tr th:only-of-type {\n",
       "        vertical-align: middle;\n",
       "    }\n",
       "\n",
       "    .dataframe tbody tr th {\n",
       "        vertical-align: top;\n",
       "    }\n",
       "\n",
       "    .dataframe thead th {\n",
       "        text-align: right;\n",
       "    }\n",
       "</style>\n",
       "<table border=\"1\" class=\"dataframe\">\n",
       "  <thead>\n",
       "    <tr style=\"text-align: right;\">\n",
       "      <th></th>\n",
       "      <th>question</th>\n",
       "      <th>label</th>\n",
       "      <th>label_int</th>\n",
       "    </tr>\n",
       "  </thead>\n",
       "  <tbody>\n",
       "    <tr>\n",
       "      <th>0</th>\n",
       "      <td>Internet mati nih</td>\n",
       "      <td>problem</td>\n",
       "      <td>2.0</td>\n",
       "    </tr>\n",
       "    <tr>\n",
       "      <th>1</th>\n",
       "      <td>Harga STB berapa ya?</td>\n",
       "      <td>information</td>\n",
       "      <td>0.0</td>\n",
       "    </tr>\n",
       "    <tr>\n",
       "      <th>2</th>\n",
       "      <td>Internet saya putus sambung</td>\n",
       "      <td>information</td>\n",
       "      <td>0.0</td>\n",
       "    </tr>\n",
       "    <tr>\n",
       "      <th>6</th>\n",
       "      <td>apakah untuk pergantian paket layanan bisa sek...</td>\n",
       "      <td>information</td>\n",
       "      <td>0.0</td>\n",
       "    </tr>\n",
       "    <tr>\n",
       "      <th>7</th>\n",
       "      <td>apakah jika saat proses pergantian paket layan...</td>\n",
       "      <td>information</td>\n",
       "      <td>0.0</td>\n",
       "    </tr>\n",
       "    <tr>\n",
       "      <th>...</th>\n",
       "      <td>...</td>\n",
       "      <td>...</td>\n",
       "      <td>...</td>\n",
       "    </tr>\n",
       "    <tr>\n",
       "      <th>1724</th>\n",
       "      <td>harga modem berapa?</td>\n",
       "      <td>information</td>\n",
       "      <td>0.0</td>\n",
       "    </tr>\n",
       "    <tr>\n",
       "      <th>1725</th>\n",
       "      <td>kapan mybiznet ada di appstore?</td>\n",
       "      <td>information</td>\n",
       "      <td>0.0</td>\n",
       "    </tr>\n",
       "    <tr>\n",
       "      <th>1726</th>\n",
       "      <td>Saya tidak bisa melakukan pembayaran melalui B...</td>\n",
       "      <td>information</td>\n",
       "      <td>0.0</td>\n",
       "    </tr>\n",
       "    <tr>\n",
       "      <th>1727</th>\n",
       "      <td>untuk promo biznet home ada apa saja?</td>\n",
       "      <td>information</td>\n",
       "      <td>0.0</td>\n",
       "    </tr>\n",
       "    <tr>\n",
       "      <th>1728</th>\n",
       "      <td>Min internet saya putus sambung dari sore tadi...</td>\n",
       "      <td>information</td>\n",
       "      <td>0.0</td>\n",
       "    </tr>\n",
       "  </tbody>\n",
       "</table>\n",
       "<p>1187 rows × 3 columns</p>\n",
       "</div>"
      ],
      "text/plain": [
       "                                               question        label  \\\n",
       "0                                     Internet mati nih      problem   \n",
       "1                                  Harga STB berapa ya?  information   \n",
       "2                           Internet saya putus sambung  information   \n",
       "6     apakah untuk pergantian paket layanan bisa sek...  information   \n",
       "7     apakah jika saat proses pergantian paket layan...  information   \n",
       "...                                                 ...          ...   \n",
       "1724                                harga modem berapa?  information   \n",
       "1725                    kapan mybiznet ada di appstore?  information   \n",
       "1726  Saya tidak bisa melakukan pembayaran melalui B...  information   \n",
       "1727              untuk promo biznet home ada apa saja?  information   \n",
       "1728  Min internet saya putus sambung dari sore tadi...  information   \n",
       "\n",
       "      label_int  \n",
       "0           2.0  \n",
       "1           0.0  \n",
       "2           0.0  \n",
       "6           0.0  \n",
       "7           0.0  \n",
       "...         ...  \n",
       "1724        0.0  \n",
       "1725        0.0  \n",
       "1726        0.0  \n",
       "1727        0.0  \n",
       "1728        0.0  \n",
       "\n",
       "[1187 rows x 3 columns]"
      ]
     },
     "execution_count": 21,
     "metadata": {},
     "output_type": "execute_result"
    }
   ],
   "source": [
    "df"
   ]
  },
  {
   "cell_type": "code",
   "execution_count": null,
   "id": "a3d5512c",
   "metadata": {},
   "outputs": [],
   "source": [
    "df.to_csv('../resources/data/labeled_question_list_all.csv', index=False)"
   ]
  },
  {
   "cell_type": "code",
   "execution_count": null,
   "id": "57b63ee8",
   "metadata": {},
   "outputs": [],
   "source": []
  }
 ],
 "metadata": {
  "kernelspec": {
   "display_name": "biznet_test_project_1",
   "language": "python",
   "name": "biznet_test_project_1"
  },
  "language_info": {
   "codemirror_mode": {
    "name": "ipython",
    "version": 3
   },
   "file_extension": ".py",
   "mimetype": "text/x-python",
   "name": "python",
   "nbconvert_exporter": "python",
   "pygments_lexer": "ipython3",
   "version": "3.11.9"
  }
 },
 "nbformat": 4,
 "nbformat_minor": 5
}
